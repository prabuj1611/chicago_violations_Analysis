{
 "cells": [
  {
   "cell_type": "markdown",
   "metadata": {
    "id": "0tb2vGh1Kb2R"
   },
   "source": [
    "**Chicago Ordinance Violations Analysis**"
   ]
  },
  {
   "cell_type": "markdown",
   "metadata": {
    "id": "lTVbs4xLMMqP"
   },
   "source": [
    "**This dataset contains information about every building-related ordinance violation in Chicago,Illinois,from 2008 to the present.**"
   ]
  },
  {
   "cell_type": "code",
   "execution_count": 4,
   "metadata": {
    "id": "UoMjVKBPKu4k"
   },
   "outputs": [],
   "source": [
    "import pandas as pd\n",
    "import numpy as np\n",
    "import matplotlib.pyplot as plt\n",
    "import seaborn as sns\n",
    "import plotly.express as px\n",
    "import plotly.graph_objects as go\n",
    "from plotly.subplots import make_subplots\n",
    "import warnings\n",
    "warnings.filterwarnings('ignore')"
   ]
  },
  {
   "cell_type": "markdown",
   "metadata": {
    "id": "BMHaTl2jMjtX"
   },
   "source": [
    "**2. Read this file using pandas.**"
   ]
  },
  {
   "cell_type": "code",
   "execution_count": 6,
   "metadata": {
    "id": "aMC9B7WwKXcF"
   },
   "outputs": [],
   "source": [
    "df_chicago = pd.read_csv(\"C:\\\\Users\\\\prabu\\\\Downloads\\\\chicago_violations.csv\")"
   ]
  },
  {
   "cell_type": "markdown",
   "metadata": {
    "id": "MZUFnvUhMs0I"
   },
   "source": [
    "**(a) Describe the dataset.**"
   ]
  },
  {
   "cell_type": "code",
   "execution_count": 8,
   "metadata": {
    "colab": {
     "base_uri": "https://localhost:8080/"
    },
    "id": "Jv2--AXIKur9",
    "outputId": "ef88459d-4831-4b87-f9b6-2d2f06c3471a"
   },
   "outputs": [
    {
     "name": "stdout",
     "output_type": "stream",
     "text": [
      "<class 'pandas.core.frame.DataFrame'>\n",
      "RangeIndex: 784225 entries, 0 to 784224\n",
      "Data columns (total 22 columns):\n",
      " #   Column                 Non-Null Count   Dtype  \n",
      "---  ------                 --------------   -----  \n",
      " 0   ID                     784225 non-null  object \n",
      " 1   DOCKET NUMBER          784122 non-null  object \n",
      " 2   NOV NUMBER             784225 non-null  object \n",
      " 3   ADDRESS                784225 non-null  object \n",
      " 4   STREET NUMBER          784225 non-null  int64  \n",
      " 5   STREET DIRECTION       784219 non-null  object \n",
      " 6   STREET NAME            784225 non-null  object \n",
      " 7   STREET TYPE            776027 non-null  object \n",
      " 8   WARD                   781415 non-null  float64\n",
      " 9   ISSUING DEPARTMENT     784225 non-null  object \n",
      " 10  HEARING DATE           784122 non-null  object \n",
      " 11  CASE DISPOSITION       766095 non-null  object \n",
      " 12  IMPOSED FINE           784225 non-null  float64\n",
      " 13  ADMIN COSTS            784225 non-null  int64  \n",
      " 14  LAST MODIFIED DATE     784225 non-null  object \n",
      " 15  VIOLATION DATE         784132 non-null  object \n",
      " 16  VIOLATION CODE         784225 non-null  object \n",
      " 17  VIOLATION DESCRIPTION  784225 non-null  object \n",
      " 18  RESPONDENTS            784225 non-null  object \n",
      " 19  LATITUDE               783289 non-null  float64\n",
      " 20  LONGITUDE              783289 non-null  float64\n",
      " 21  LOCATION               783289 non-null  object \n",
      "dtypes: float64(4), int64(2), object(16)\n",
      "memory usage: 131.6+ MB\n"
     ]
    }
   ],
   "source": [
    "df_chicago.info()"
   ]
  },
  {
   "cell_type": "markdown",
   "metadata": {
    "id": "QUJZKG1Ir8s3"
   },
   "source": [
    "*The dataset contains records of building-related ordinance violations in Chicago, including unique case identifiers, addresses, and details about violations.*\n",
    "\n",
    "*It includes legal proceedings information such as docket numbers, hearing dates, and case dispositions, which indicate whether a case was dismissed, found liable, or continued.*\n",
    "\n",
    "*Financial aspects are covered through imposed fines and administrative costs, reflecting the penalties associated with violations.*\n",
    "\n",
    "*Geographic data such as ward numbers, street locations, latitude, and longitude will help in analyzing violations by area.*\n",
    "\n",
    "*The dataset is structured with both categorical and numerical variables, allowing for legal, financial, and spatial analysis of building ordinance violations.*"
   ]
  },
  {
   "cell_type": "markdown",
   "metadata": {
    "id": "7t5LpluuO55c"
   },
   "source": [
    "**(b) How many rows and how many columns does your dataframe contain?**"
   ]
  },
  {
   "cell_type": "code",
   "execution_count": 11,
   "metadata": {
    "colab": {
     "base_uri": "https://localhost:8080/"
    },
    "id": "_c-7R45lPLeu",
    "outputId": "d4a79460-0fae-4107-a41c-07940484b529"
   },
   "outputs": [
    {
     "name": "stdout",
     "output_type": "stream",
     "text": [
      "Number of rows: 784225\n",
      "Number of columns: 22\n"
     ]
    }
   ],
   "source": [
    "print(\"Number of rows:\", df_chicago.shape[0])\n",
    "print(\"Number of columns:\", df_chicago.shape[1])"
   ]
  },
  {
   "cell_type": "markdown",
   "metadata": {
    "id": "HEVk2hgoTmlc"
   },
   "source": [
    "**3. Choose a ward number at random without consulting anyone else. Filter your dataset, so that\n",
    "it only contains records with your chosen ward.**\n"
   ]
  },
  {
   "cell_type": "markdown",
   "metadata": {
    "id": "kz0TB5oDTyNy"
   },
   "source": [
    "*I chose ward 6.*"
   ]
  },
  {
   "cell_type": "code",
   "execution_count": 14,
   "metadata": {
    "id": "BAFMnNc0P4pM"
   },
   "outputs": [],
   "source": [
    "df_6 = df_chicago[df_chicago['WARD'] == 6]"
   ]
  },
  {
   "cell_type": "markdown",
   "metadata": {
    "id": "nCIxoi7-Welc"
   },
   "source": [
    "**(a) How many records does your dataframe contain now?**"
   ]
  },
  {
   "cell_type": "code",
   "execution_count": 16,
   "metadata": {
    "colab": {
     "base_uri": "https://localhost:8080/"
    },
    "id": "y1PcV80NKXe1",
    "outputId": "5f5e32ff-c940-44c8-8c57-685f1b27c13e"
   },
   "outputs": [
    {
     "name": "stdout",
     "output_type": "stream",
     "text": [
      "Number of rows: 39556\n",
      "Number of columns: 22\n"
     ]
    }
   ],
   "source": [
    "print(\"Number of rows:\", df_6.shape[0])\n",
    "print(\"Number of columns:\", df_6.shape[1])"
   ]
  },
  {
   "cell_type": "markdown",
   "metadata": {
    "id": "glr9Iny6W_IQ"
   },
   "source": [
    "**(b) Identify at least three interesting facts about your ward. You may use any source to find\n",
    "this informatio – it will not come from within this dataset. You can list them here in any\n",
    "format (bullet points, full sentences, etc.) No links or citations are needed.**"
   ]
  },
  {
   "cell_type": "markdown",
   "metadata": {
    "id": "gCAxSlcoXwqx"
   },
   "source": [
    "**Historical Significance:** *The 6th Ward is home to the historic Chatham-Greater Grand Crossing Commercial District, a notable area recognized for its cultural and economic contributions to the city.*\n",
    "\n",
    "**Demographic Composition:** *The ward has a predominantly African American population, accounting for approximately 95.6% of its residents.*\n",
    "\n",
    "**Cultural Contributions:** *Chicago's 6th Ward has a rich musical heritage, particularly in the genres of jazz and blues. Notably, the ward has been home to influential musicians such as Lil Hardin Armstrong, a pioneering jazz pianist and bandleader who lived and performed in the Bronzeville neighborhood. Additionally, the area has produced renowned blues artists like Buddy Guy, further cementing its status as a cradle of American music.*\n",
    "*These contributions have significantly shaped Chicago's cultural landscape, highlighting the 6th Ward's ongoing influence in the arts.*"
   ]
  },
  {
   "cell_type": "markdown",
   "metadata": {
    "id": "ngFVfmvTZD9G"
   },
   "source": [
    "**4. Dealing with NA data.**"
   ]
  },
  {
   "cell_type": "markdown",
   "metadata": {
    "id": "xtvTJPITZD5t"
   },
   "source": [
    "**(a) Are there any NA values in your dataframe? How do you know this? What is the total\n",
    "number of NAs in the dataframe?**"
   ]
  },
  {
   "cell_type": "code",
   "execution_count": 21,
   "metadata": {
    "colab": {
     "base_uri": "https://localhost:8080/"
    },
    "id": "uY9GomPyKXhq",
    "outputId": "87dab115-16a8-4b46-8569-4e70e4888e58"
   },
   "outputs": [
    {
     "name": "stdout",
     "output_type": "stream",
     "text": [
      "ID                         0\n",
      "DOCKET NUMBER              7\n",
      "NOV NUMBER                 0\n",
      "ADDRESS                    0\n",
      "STREET NUMBER              0\n",
      "STREET DIRECTION           0\n",
      "STREET NAME                0\n",
      "STREET TYPE               76\n",
      "WARD                       0\n",
      "ISSUING DEPARTMENT         0\n",
      "HEARING DATE               7\n",
      "CASE DISPOSITION         724\n",
      "IMPOSED FINE               0\n",
      "ADMIN COSTS                0\n",
      "LAST MODIFIED DATE         0\n",
      "VIOLATION DATE            13\n",
      "VIOLATION CODE             0\n",
      "VIOLATION DESCRIPTION      0\n",
      "RESPONDENTS                0\n",
      "LATITUDE                  11\n",
      "LONGITUDE                 11\n",
      "LOCATION                  11\n",
      "dtype: int64\n"
     ]
    }
   ],
   "source": [
    "print(df_6.isna().sum())"
   ]
  },
  {
   "cell_type": "code",
   "execution_count": 22,
   "metadata": {
    "colab": {
     "base_uri": "https://localhost:8080/"
    },
    "id": "2NPuYPd2KXlO",
    "outputId": "00040c4b-12da-443d-99a9-4630a2e5b4b2"
   },
   "outputs": [
    {
     "data": {
      "text/plain": [
       "860"
      ]
     },
     "execution_count": 22,
     "metadata": {},
     "output_type": "execute_result"
    }
   ],
   "source": [
    "df_6.isna().sum().sum()"
   ]
  },
  {
   "cell_type": "markdown",
   "metadata": {
    "id": "R4u60Mk5Z94A"
   },
   "source": [
    "*There are 860 (total number) of NAs in the dataframe.*"
   ]
  },
  {
   "cell_type": "markdown",
   "metadata": {
    "id": "2NIEKZxeaeN7"
   },
   "source": [
    "**(b) What percentage of the rows in the dataframe are complete cases? What is a complete\n",
    "case?**"
   ]
  },
  {
   "cell_type": "code",
   "execution_count": 25,
   "metadata": {
    "colab": {
     "base_uri": "https://localhost:8080/"
    },
    "id": "CPQdBiHVbvsW",
    "outputId": "09ce542f-622f-4d7a-d0b2-96c0dff4d87c"
   },
   "outputs": [
    {
     "name": "stdout",
     "output_type": "stream",
     "text": [
      "Percentage of complete cases: 97.92%\n"
     ]
    }
   ],
   "source": [
    "# Calculating the number of complete cases (rows with no missing values)\n",
    "complete_cases = df_6.dropna().shape[0]\n",
    "\n",
    "# Calculating the total number of rows\n",
    "total_rows = df_6.shape[0]\n",
    "\n",
    "# Percentage of complete cases\n",
    "percentage_complete_cases = (complete_cases / total_rows) * 100\n",
    "\n",
    "print(f\"Percentage of complete cases: {percentage_complete_cases:.2f}%\")"
   ]
  },
  {
   "cell_type": "markdown",
   "metadata": {
    "id": "13jVeHAidrVx"
   },
   "source": [
    "*A complete case refers to a record (or row) in a dataset where no values are missing in any of the relevant columns. In the context of this dataset, a complete case is an entry that contains valid (non-null) values for all required fields.*"
   ]
  },
  {
   "cell_type": "markdown",
   "metadata": {
    "id": "UKIUS2tueBfp"
   },
   "source": [
    "**(c) Convert any blank cells in the dataframe into NAs.**"
   ]
  },
  {
   "cell_type": "code",
   "execution_count": 28,
   "metadata": {
    "id": "Ww8an1MmPO5k"
   },
   "outputs": [],
   "source": [
    "df_6 = df_6.replace(r'^\\s*$', np.nan, regex=True)"
   ]
  },
  {
   "cell_type": "markdown",
   "metadata": {
    "id": "azncw3oZeQGN"
   },
   "source": [
    "**(d) Generate a table that shows the number of missing values and the percentage of missing\n",
    "values for each variable.**\n"
   ]
  },
  {
   "cell_type": "code",
   "execution_count": 30,
   "metadata": {
    "colab": {
     "base_uri": "https://localhost:8080/"
    },
    "id": "n4iFgIAHeFQF",
    "outputId": "97441800-8384-42a9-f977-dda1afc80879"
   },
   "outputs": [
    {
     "name": "stdout",
     "output_type": "stream",
     "text": [
      "                 Variable  Missing Count  Missing Percentage\n",
      "0                      ID              0            0.000000\n",
      "1           DOCKET NUMBER              7            0.017696\n",
      "2              NOV NUMBER              0            0.000000\n",
      "3                 ADDRESS              0            0.000000\n",
      "4           STREET NUMBER              0            0.000000\n",
      "5        STREET DIRECTION              0            0.000000\n",
      "6             STREET NAME              0            0.000000\n",
      "7             STREET TYPE             76            0.192133\n",
      "8                    WARD              0            0.000000\n",
      "9      ISSUING DEPARTMENT              0            0.000000\n",
      "10           HEARING DATE              7            0.017696\n",
      "11       CASE DISPOSITION            724            1.830317\n",
      "12           IMPOSED FINE              0            0.000000\n",
      "13            ADMIN COSTS              0            0.000000\n",
      "14     LAST MODIFIED DATE              0            0.000000\n",
      "15         VIOLATION DATE             13            0.032865\n",
      "16         VIOLATION CODE              0            0.000000\n",
      "17  VIOLATION DESCRIPTION              0            0.000000\n",
      "18            RESPONDENTS              0            0.000000\n",
      "19               LATITUDE             11            0.027809\n",
      "20              LONGITUDE             11            0.027809\n",
      "21               LOCATION             11            0.027809\n"
     ]
    }
   ],
   "source": [
    "# Number of missing values for each variable\n",
    "missing_counts = df_6.isnull().sum()\n",
    "\n",
    "# Percentage of missing values for each variable\n",
    "missing_percentages = (missing_counts / len(df_6)) * 100\n",
    "\n",
    "# DataFrame to display the results\n",
    "missing_data_summary = pd.DataFrame({'Variable': missing_counts.index,\n",
    "                                     'Missing Count': missing_counts.values,\n",
    "                                     'Missing Percentage': missing_percentages.values})\n",
    "\n",
    "# Table\n",
    "print(missing_data_summary)"
   ]
  },
  {
   "cell_type": "markdown",
   "metadata": {
    "id": "XT7f3HnifAaw"
   },
   "source": [
    "**5. Handling dates**"
   ]
  },
  {
   "cell_type": "markdown",
   "metadata": {
    "id": "s4jsm663fe9p"
   },
   "source": [
    "**(a) Which variables in this dataset contain date values?**"
   ]
  },
  {
   "cell_type": "markdown",
   "metadata": {
    "id": "9ZlhMc0GfkyK"
   },
   "source": [
    " *HEARING DATE, LAST MODIFIED DATE, and VIOLATION DATE.*"
   ]
  },
  {
   "cell_type": "markdown",
   "metadata": {
    "id": "RVMuSTbziSPG"
   },
   "source": [
    "**(b) Now, add a new variable to the dataframe called CityDelay. CityDelay should be created based on the difference between the HearingDate and ViolationDate.**\n"
   ]
  },
  {
   "cell_type": "code",
   "execution_count": 35,
   "metadata": {
    "colab": {
     "base_uri": "https://localhost:8080/"
    },
    "id": "o29yRHrzi08y",
    "outputId": "7f796b72-1c33-433f-bf71-f77fb44acdc0"
   },
   "outputs": [
    {
     "name": "stdout",
     "output_type": "stream",
     "text": [
      "   HEARING DATE      VIOLATION DATE  Citydelay\n",
      "12   2023-02-15 2022-12-03 09:00:00       73.0\n",
      "16   2023-02-15 2022-11-05 09:00:00      101.0\n",
      "42   2023-02-15 2022-11-05 09:00:00      101.0\n",
      "59   2023-02-15 2022-12-03 09:00:00       73.0\n",
      "63   2023-02-15 2022-12-03 09:00:00       73.0\n"
     ]
    }
   ],
   "source": [
    "df_6['HEARING DATE'] = pd.to_datetime(df_6['HEARING DATE'])\n",
    "df_6['VIOLATION DATE'] = pd.to_datetime(df_6['VIOLATION DATE'])\n",
    "\n",
    "# Calculating the difference between HearingDate and ViolationDate\n",
    "df_6['Citydelay'] = (df_6['HEARING DATE'] - df_6['VIOLATION DATE']).dt.days\n",
    "citydelay = df_6[['HEARING DATE','VIOLATION DATE','Citydelay']]\n",
    "print(citydelay.head())"
   ]
  },
  {
   "cell_type": "markdown",
   "metadata": {
    "id": "_9JuUDLIjGB4"
   },
   "source": [
    "**(c) What is your birthday? (just use the day/month for this, not the year)**"
   ]
  },
  {
   "cell_type": "markdown",
   "metadata": {
    "id": "eFxsAb0HjQ7j"
   },
   "source": [
    "*16 th November*"
   ]
  },
  {
   "cell_type": "markdown",
   "metadata": {
    "id": "sD3MgGvdyGch"
   },
   "source": [
    "**(d) How many ordinance violations were issued on your birthday? What was the most common Case Disposition for those ordinance violations? [Note: if you built a separate dataframe\n",
    "to answer this, just think of that dataframe as its own island – you won’t use it for any subsequent steps].**\n"
   ]
  },
  {
   "cell_type": "code",
   "execution_count": 39,
   "metadata": {
    "colab": {
     "base_uri": "https://localhost:8080/"
    },
    "id": "wxPupLSxkO4t",
    "outputId": "3d0d9aa2-464b-4f1f-d104-11b1673ecf5b"
   },
   "outputs": [
    {
     "name": "stdout",
     "output_type": "stream",
     "text": [
      "Number of ordinance violations issued on November 16th: 98\n",
      "Most common Case Disposition for those violations: Non-Suit\n"
     ]
    }
   ],
   "source": [
    "# Filtering the dataframe for violations on November 16th\n",
    "violations_on_mybirthday = df_6[df_6['VIOLATION DATE'].dt.month == 11]\n",
    "violations_on_mybirthday = violations_on_mybirthday[violations_on_mybirthday['VIOLATION DATE'].dt.day == 16]\n",
    "\n",
    "# Number of violations on my birthday\n",
    "num_violations_on_mybirthday = len(violations_on_mybirthday)\n",
    "print(f\"Number of ordinance violations issued on November 16th: {num_violations_on_mybirthday}\")\n",
    "\n",
    "# Most common case disposition\n",
    "if num_violations_on_mybirthday > 0:\n",
    "    most_common_disposition = violations_on_mybirthday['CASE DISPOSITION'].mode()[0]\n",
    "    print(f\"Most common Case Disposition for those violations: {most_common_disposition}\")\n",
    "else:\n",
    "    print(\"No violations found on November 16th.\")"
   ]
  },
  {
   "cell_type": "markdown",
   "metadata": {
    "id": "6QmIt4ICk3Xr"
   },
   "source": [
    "**6. Exploring the dataset**"
   ]
  },
  {
   "cell_type": "markdown",
   "metadata": {
    "id": "HRwfok4Wk6GM"
   },
   "source": [
    "**(a) Should Ward be considered a numeric or categorical variable? Why?**"
   ]
  },
  {
   "cell_type": "markdown",
   "metadata": {
    "id": "DCW_doIClHOl"
   },
   "source": [
    "*Ward should be considered a **categorical** variable. While it is represented by numbers, those numbers represent distinct categories (wards) rather than a continuous numerical scale where arithmetic operations like addition or subtraction would be meaningful. The ward number is a label identifying a specific geographic area.*"
   ]
  },
  {
   "cell_type": "markdown",
   "metadata": {
    "id": "ub-iztgOlwKx"
   },
   "source": [
    "**(b) What is the correlation between imposed fine and admin costs? What can you say about\n",
    "the strength of this correlation?**"
   ]
  },
  {
   "cell_type": "code",
   "execution_count": 44,
   "metadata": {
    "colab": {
     "base_uri": "https://localhost:8080/"
    },
    "id": "187tQ2tdiXAU",
    "outputId": "cf1d8e95-4dd9-4b89-9375-eeeafdb28ef7"
   },
   "outputs": [
    {
     "name": "stdout",
     "output_type": "stream",
     "text": [
      "The correlation between imposed fine and admin costs is: 0.2017225083220629\n",
      "The strength of this correlation is: weak\n"
     ]
    }
   ],
   "source": [
    "# Correlation between 'IMPOSED FINE' and 'ADMIN COSTS'\n",
    "correlation = df_6['IMPOSED FINE'].corr(df_6['ADMIN COSTS'])\n",
    "\n",
    "print(f\"The correlation between imposed fine and admin costs is: {correlation}\")\n",
    "\n",
    "# Interpretation of the correlation coefficient\n",
    "if abs(correlation) < 0.3:\n",
    "    strength = \"weak\"\n",
    "elif abs(correlation) < 0.7:\n",
    "    strength = \"moderate\"\n",
    "else:\n",
    "    strength = \"strong\"\n",
    "\n",
    "print(f\"The strength of this correlation is: {strength}\")"
   ]
  },
  {
   "cell_type": "markdown",
   "metadata": {
    "id": "eQhxWN1GmdRH"
   },
   "source": [
    "**(c) What is the most common street type in your ward? Is it the same street type as the one\n",
    "that you live on?**"
   ]
  },
  {
   "cell_type": "code",
   "execution_count": 46,
   "metadata": {
    "colab": {
     "base_uri": "https://localhost:8080/"
    },
    "id": "-pR9BoIOiW6-",
    "outputId": "f9f2505e-e247-4890-983d-9730f8cae282"
   },
   "outputs": [
    {
     "name": "stdout",
     "output_type": "stream",
     "text": [
      "STREET TYPE\n",
      "AVE     21530\n",
      "ST      14783\n",
      "DR        820\n",
      "RD        817\n",
      "PL        682\n",
      "BLVD      672\n",
      "PKWY      165\n",
      "CLB         7\n",
      "CIR         4\n",
      "Name: count, dtype: int64\n"
     ]
    }
   ],
   "source": [
    "print(df_6[\"STREET TYPE\"].value_counts())"
   ]
  },
  {
   "cell_type": "markdown",
   "metadata": {
    "id": "wcqyx5T1nazP"
   },
   "source": [
    "*Yes, It's the same street type as the one in which I live on (Common wealth Ave).*"
   ]
  },
  {
   "cell_type": "markdown",
   "metadata": {
    "id": "pvYtTlKnoRGW"
   },
   "source": [
    "**(d) How many unique Violation Description values are there in your data? How many\n",
    "unique Violation Code values are there in your data?**"
   ]
  },
  {
   "cell_type": "code",
   "execution_count": 49,
   "metadata": {
    "colab": {
     "base_uri": "https://localhost:8080/"
    },
    "id": "2bobw9JKnKk_",
    "outputId": "abd47273-f16b-42a8-f2f6-9461ec11b875"
   },
   "outputs": [
    {
     "name": "stdout",
     "output_type": "stream",
     "text": [
      "Number of unique Violation Description in Ward 6: 541\n"
     ]
    }
   ],
   "source": [
    "print(f\"Number of unique Violation Description in Ward 6: {df_6['VIOLATION DESCRIPTION'].nunique()}\")"
   ]
  },
  {
   "cell_type": "code",
   "execution_count": 50,
   "metadata": {
    "colab": {
     "base_uri": "https://localhost:8080/"
    },
    "id": "ZV9eiqbtnKeW",
    "outputId": "1f6c6b6d-bd44-485d-87f7-c83ea2aafb1d"
   },
   "outputs": [
    {
     "name": "stdout",
     "output_type": "stream",
     "text": [
      "Number of unique Violation Code in Ward 6: 544\n"
     ]
    }
   ],
   "source": [
    "print(f\"Number of unique Violation Code in Ward 6: {df_6['VIOLATION CODE'].nunique()}\")"
   ]
  },
  {
   "cell_type": "markdown",
   "metadata": {
    "id": "88sOF3fwtapJ"
   },
   "source": [
    "**7. How do the average values for imposed fine vary from year to year? Show the averages for each\n",
    "year in your data. To answer this, use the year value from the Hearing Date as your grouping\n",
    "variable.**"
   ]
  },
  {
   "cell_type": "code",
   "execution_count": 52,
   "metadata": {
    "colab": {
     "base_uri": "https://localhost:8080/"
    },
    "id": "YnaD-cI_o3Vf",
    "outputId": "78f48936-c975-4705-c314-dbb9024c72a5"
   },
   "outputs": [
    {
     "name": "stdout",
     "output_type": "stream",
     "text": [
      "HearingYear\n",
      "2008.0    1916.286920\n",
      "2009.0    1454.539889\n",
      "2010.0    1742.890574\n",
      "2011.0    1512.335735\n",
      "2012.0    1263.654754\n",
      "2013.0     572.450331\n",
      "2014.0    1000.000000\n",
      "2015.0     733.471728\n",
      "2016.0     953.288479\n",
      "2017.0     917.794711\n",
      "2018.0    1376.337604\n",
      "2019.0    1787.048736\n",
      "2020.0    1679.470199\n",
      "2021.0    1833.095068\n",
      "2022.0    1489.823009\n",
      "2023.0    1644.484761\n",
      "2024.0     104.910714\n",
      "Name: IMPOSED FINE, dtype: float64\n"
     ]
    }
   ],
   "source": [
    "# Extracting the year from the 'HEARING DATE' column\n",
    "df_6['HearingYear'] = df_6['HEARING DATE'].dt.year\n",
    "\n",
    "# Grouping by year and calculating the average imposed fine\n",
    "average_fine_by_year = df_6.groupby('HearingYear')['IMPOSED FINE'].mean()\n",
    "\n",
    "# Results\n",
    "print(average_fine_by_year)"
   ]
  },
  {
   "cell_type": "markdown",
   "metadata": {
    "id": "wKiz56piG_Nx"
   },
   "source": [
    "**(a) If the 2024 number looks to be a bit lower than the number from previous years, explore\n",
    "the dataset a bit to find a reason that helps to explain this. Write that explanation here.**"
   ]
  },
  {
   "cell_type": "code",
   "execution_count": 54,
   "metadata": {
    "colab": {
     "base_uri": "https://localhost:8080/"
    },
    "id": "OUVjrDTsUdb9",
    "outputId": "d45b7a1f-2211-4000-981f-33f1762f48d8"
   },
   "outputs": [
    {
     "name": "stdout",
     "output_type": "stream",
     "text": [
      "Number of violations in 2023: 1378\n",
      "Number of violations in 2024: 448\n"
     ]
    }
   ],
   "source": [
    "# Potential reasons for the difference:\n",
    "# Number of violations in each year:\n",
    "violations_2023 = df_6[df_6['HearingYear'] == 2023].shape[0]\n",
    "violations_2024 = df_6[df_6['HearingYear'] == 2024].shape[0]\n",
    "\n",
    "print(f\"Number of violations in 2023: {violations_2023}\")\n",
    "print(f\"Number of violations in 2024: {violations_2024}\")"
   ]
  },
  {
   "cell_type": "code",
   "execution_count": 55,
   "metadata": {
    "colab": {
     "base_uri": "https://localhost:8080/"
    },
    "id": "1-iBXgUgUZHN",
    "outputId": "747103a9-69ed-40c8-e079-8ac13eb67894"
   },
   "outputs": [
    {
     "name": "stdout",
     "output_type": "stream",
     "text": [
      "Average fine in 2023: 1644.4847605224963\n",
      "Average fine in 2024: 104.91071428571429\n"
     ]
    }
   ],
   "source": [
    "# Average imposed fine for 2023 and 2024\n",
    "avg_fine_2023 = df_6[df_6['HearingYear'] == 2023]['IMPOSED FINE'].mean()\n",
    "avg_fine_2024 = df_6[df_6['HearingYear'] == 2024]['IMPOSED FINE'].mean()\n",
    "\n",
    "print(f\"Average fine in 2023: {avg_fine_2023}\")\n",
    "print(f\"Average fine in 2024: {avg_fine_2024}\")"
   ]
  },
  {
   "cell_type": "code",
   "execution_count": 56,
   "metadata": {
    "colab": {
     "base_uri": "https://localhost:8080/"
    },
    "id": "IzpseDKmHDGZ",
    "outputId": "0874a1ab-ce14-4825-9376-5b6700567cdb"
   },
   "outputs": [
    {
     "name": "stdout",
     "output_type": "stream",
     "text": [
      "Case Dispositions in 2023:\n",
      " CASE DISPOSITION\n",
      "Non-Suit       469\n",
      "Default        442\n",
      "Liable         399\n",
      "Not Liable      22\n",
      "Continuance      8\n",
      "Name: count, dtype: int64\n"
     ]
    }
   ],
   "source": [
    "# Case disposition in 2023\n",
    "disposition_2023 = df_6[df_6['HearingYear'] == 2023]['CASE DISPOSITION'].value_counts()\n",
    "print(\"Case Dispositions in 2023:\\n\", disposition_2023)"
   ]
  },
  {
   "cell_type": "code",
   "execution_count": 57,
   "metadata": {
    "colab": {
     "base_uri": "https://localhost:8080/"
    },
    "id": "gSGT6MBDUj5B",
    "outputId": "fc0a3c89-cd0d-4282-84ee-ddee8e13adb3"
   },
   "outputs": [
    {
     "name": "stdout",
     "output_type": "stream",
     "text": [
      "Case Dispositions in 2024:\n",
      " CASE DISPOSITION\n",
      "Continuance    355\n",
      "Default         28\n",
      "Non-Suit        21\n",
      "Not Liable       4\n",
      "Liable           1\n",
      "Name: count, dtype: int64\n"
     ]
    }
   ],
   "source": [
    "# Case disposition in 2024\n",
    "disposition_2024 = df_6[df_6['HearingYear'] == 2024]['CASE DISPOSITION'].value_counts()\n",
    "print(\"Case Dispositions in 2024:\\n\", disposition_2024)"
   ]
  },
  {
   "cell_type": "markdown",
   "metadata": {
    "id": "GnnFfwfEWvkr"
   },
   "source": [
    "*The number of violations dropped from 1,378 in 2023 to 448 in 2024. The average fine decreased significantly from $1,644.48 in 2023 to $104.91 in 2024. In 2023, 841 cases (61%) were Default or Liable, whereas in 2024, only 29 cases (6%) fell into these categories. The number of Continuance cases increased sharply from 8 in 2023 to 355 in 2024. This shift in case dispositions likely contributed to the lower fines and violation counts in 2024.*"
   ]
  },
  {
   "cell_type": "markdown",
   "metadata": {
    "id": "Q6zzvQicW-G5"
   },
   "source": [
    "**8. Remove the following columns from the dataframe: ID and Docket Number**"
   ]
  },
  {
   "cell_type": "code",
   "execution_count": 60,
   "metadata": {
    "id": "WHHIJ8eIQ8kQ"
   },
   "outputs": [],
   "source": [
    "df_6 = df_6.drop(['ID', 'DOCKET NUMBER'], axis=1)"
   ]
  },
  {
   "cell_type": "markdown",
   "metadata": {
    "id": "dZI2KtP-XZGZ"
   },
   "source": [
    "**9. Create a new column called Season. Season should be created from the Violation Date\n",
    "variable. Rename the quarters so that Quarter 1 becomes Winter, Quarter 2 becomes Spring,\n",
    "Quarter 3 becomes Summer and Quarter 4 becomes Fall.**"
   ]
  },
  {
   "cell_type": "code",
   "execution_count": 62,
   "metadata": {
    "colab": {
     "base_uri": "https://localhost:8080/"
    },
    "id": "wkfTZR-bga1l",
    "outputId": "a7b1b436-d3d8-434e-e2e8-f2f780c3eae7"
   },
   "outputs": [
    {
     "name": "stdout",
     "output_type": "stream",
     "text": [
      "        VIOLATION DATE Season\n",
      "12 2022-12-03 09:00:00   Fall\n",
      "16 2022-11-05 09:00:00   Fall\n",
      "42 2022-11-05 09:00:00   Fall\n",
      "59 2022-12-03 09:00:00   Fall\n",
      "63 2022-12-03 09:00:00   Fall\n"
     ]
    }
   ],
   "source": [
    "# Creating the 'Season' column based on the quarter of the 'VIOLATION DATE':\n",
    "df_6['Quarter'] = df_6['VIOLATION DATE'].dt.quarter\n",
    "\n",
    "# Mapping the quarters to seasons:\n",
    "season_mapping = {1: 'Winter',2: 'Spring',3: 'Summer',4: 'Fall'}\n",
    "df_6['Season'] = df_6['Quarter'].map(season_mapping)\n",
    "\n",
    "# Removing unwanted the temporary 'Quarter' and previous 'Hearing Year' column from df_6:\n",
    "df_6.drop('HearingYear', axis=1, inplace=True)\n",
    "df_6 = df_6.drop('Quarter', axis=1)\n",
    "\n",
    "# First few rows to verify the new column:\n",
    "print(df_6[['VIOLATION DATE', 'Season']].head())\n"
   ]
  },
  {
   "cell_type": "markdown",
   "metadata": {
    "id": "tMLUlR0-iWIG"
   },
   "source": [
    "**10. Construct a barplot showing the counts of building violations during each of the four seasons.\n",
    "Fill your bars with any color of your choice.**"
   ]
  },
  {
   "cell_type": "code",
   "execution_count": 64,
   "metadata": {
    "colab": {
     "base_uri": "https://localhost:8080/",
     "height": 487
    },
    "id": "UJOf2Il0gF90",
    "outputId": "d0eb860e-671c-4746-be15-9186a413ccd4"
   },
   "outputs": [
    {
     "data": {
      "image/png": "[encoded data removed]",
      "text/plain": [
       "<Figure size 800x500 with 1 Axes>"
      ]
     },
     "metadata": {},
     "output_type": "display_data"
    }
   ],
   "source": [
    "# Count of violations per season\n",
    "season_counts = df_6['Season'].value_counts()\n",
    "\n",
    "# Creating the bar plot\n",
    "plt.figure(figsize=(8, 5))\n",
    "sns.barplot(x=season_counts.index, y=season_counts.values, palette='coolwarm')\n",
    "plt.xlabel('Season')\n",
    "plt.ylabel('Number of Violations')\n",
    "plt.title('Building Violations each Season in Ward 6 (1/04/2000 - 1/19/2024)')\n",
    "plt.show()\n",
    "# First Violation reported or took place in ward 6 on 01/04/2000.\n",
    "# Most recent Violation reported or took place in ward 6 on 1/19/2024 as per the data provided."
   ]
  },
  {
   "cell_type": "markdown",
   "metadata": {
    "id": "3vlu-tx6ls8D"
   },
   "source": [
    "**(a) What do you notice about your plot? Why might it look the way it does? If there are any\n",
    "differences from season to season, offer some ideas about why those might be the way\n",
    "that they are (Note: there is NO need for domain knowledge here - just take a moment to\n",
    "think about it, and answer with any reasonable speculation on your part).**"
   ]
  },
  {
   "cell_type": "markdown",
   "metadata": {
    "id": "8do4gTCFmjqR"
   },
   "source": [
    "*The high counts in summer and winter could be due to following factors:*\n",
    "\n",
    "*Summer: More people might be outside, leading to more opportunities for violations to be noticed. Increased construction activity in warmer weather might also lead to more violations. Higher temperatures might also exacerbate existing problems,leading to more reports.*\n",
    "\n",
    "*Winter: Harsh weather conditions could damage buildings,causing violations to emerge (e.g., water damage from frozen pipes).Snow and ice might also obscure hazards until warmer weather, Also, reduced visibility in winter months could contribute to accidents, potentially leading to related violations.*\n",
    "\n",
    "*Differences from other seasons (spring/fall): These seasons might have fewer violations because of more moderate weather, less construction activity, and fewer people outdoors.*"
   ]
  },
  {
   "cell_type": "markdown",
   "metadata": {
    "id": "1l99mgx5n3RM"
   },
   "source": [
    "**11. Perform another filtering step. This time, filter your dataset so that only rows with the 5 most\n",
    "common types of Case Disposition remain.**"
   ]
  },
  {
   "cell_type": "code",
   "execution_count": 68,
   "metadata": {
    "id": "yJ1NqNQggF4r"
   },
   "outputs": [],
   "source": [
    "# Counting the occurrences of each case disposition\n",
    "case_disposition_counts = df_6['CASE DISPOSITION'].value_counts()\n",
    "\n",
    "# Five most common case dispositions\n",
    "top_5_dispositions = case_disposition_counts.nlargest(5).index\n",
    "\n",
    "# Filtering the DataFrame to include only the top 5 dispositions\n",
    "df_filtered = df_6[df_6['CASE DISPOSITION'].isin(top_5_dispositions)]"
   ]
  },
  {
   "cell_type": "markdown",
   "metadata": {
    "id": "nzb6AtobpYcC"
   },
   "source": [
    "**(a) How many rows does your dataframe contain now?**"
   ]
  },
  {
   "cell_type": "code",
   "execution_count": 70,
   "metadata": {
    "colab": {
     "base_uri": "https://localhost:8080/"
    },
    "id": "kskO8BsQlnkO",
    "outputId": "26a20bff-7148-4098-abdf-85488016df9d"
   },
   "outputs": [
    {
     "data": {
      "text/plain": [
       "38382"
      ]
     },
     "execution_count": 70,
     "metadata": {},
     "output_type": "execute_result"
    }
   ],
   "source": [
    "df_filtered.shape[0]"
   ]
  },
  {
   "cell_type": "markdown",
   "metadata": {
    "id": "PT8Usojip9Bp"
   },
   "source": [
    "**(b) Make histograms that depict CityDelay. Color your bars. Be mindful of outliers when\n",
    "you decide on setting your plot axes.**"
   ]
  },
  {
   "cell_type": "code",
   "execution_count": 72,
   "metadata": {
    "colab": {
     "base_uri": "https://localhost:8080/"
    },
    "id": "xy3P2S_GoTiO",
    "outputId": "5bea49ff-1b03-492e-ef8f-275030e79e53"
   },
   "outputs": [
    {
     "name": "stdout",
     "output_type": "stream",
     "text": [
      "count    38369.000000\n",
      "mean       249.742188\n",
      "std        194.460935\n",
      "min      -2317.000000\n",
      "25%        131.000000\n",
      "50%        203.000000\n",
      "75%        321.000000\n",
      "max       6253.000000\n",
      "Name: Citydelay, dtype: float64\n"
     ]
    }
   ],
   "source": [
    "print(df_filtered['Citydelay'].describe())"
   ]
  },
  {
   "cell_type": "code",
   "execution_count": 73,
   "metadata": {
    "colab": {
     "base_uri": "https://localhost:8080/",
     "height": 487
    },
    "id": "FbCBjvsGoTcg",
    "outputId": "cbed7abc-442c-45f9-9f1d-8aa1bbab98b4"
   },
   "outputs": [
    {
     "data": {
      "image/png": "[encoded data removed]",
      "text/plain": [
       "<Figure size 900x500 with 1 Axes>"
      ]
     },
     "metadata": {},
     "output_type": "display_data"
    }
   ],
   "source": [
    "# Histogram for City Delay:\n",
    "plt.figure(figsize=(9, 5))\n",
    "plt.hist(df_filtered['Citydelay'], bins=200, color='pink', edgecolor='black')\n",
    "plt.xlabel('City Delay (Days)')\n",
    "plt.ylabel('Frequency')\n",
    "plt.title('Distribution of City Delay for Top 5 Case Dispositions')\n",
    "plt.xlim(0,1000)\n",
    "plt.show()"
   ]
  },
  {
   "cell_type": "markdown",
   "metadata": {
    "id": "cU8rfbf6tafQ"
   },
   "source": [
    "*The histogram displays the distribution of city delay (in days) for the top 5 case dispositions. The distribution is right-skewed, with most cases experiencing delays between 0 to 300 days, peaking around 150-200 days before gradually declining.*\n",
    "\n",
    "**Three key observations:**\n",
    "\n",
    "*Peak Around 150-200 Days: The highest frequency suggests that most cases are processed within this range, possibly due to standard procedural timelines.*\n",
    "\n",
    "*Long Tail Beyond 400 Days: Some cases experience extreme delays, which could be due to legal complexities, administrative backlog, or continuances.*\n",
    "\n",
    "*Decreasing Frequency Over Time: As delays extend beyond 300-400 days, the frequency drops, possibly indicating that fewer cases require prolonged resolution, or that prolonged delays correlate with more complex legal or bureaucratic challenges.*"
   ]
  },
  {
   "cell_type": "markdown",
   "metadata": {
    "id": "cYzBqq0NfHxf"
   },
   "source": [
    "**12. Build another barplot now. For this plot, place the Case Disposition on the x-axis. The y-axis\n",
    "should show the average imposed fine for each type of case disposition. Be sure to color your\n",
    "bars, and to order them (either largest to smallest, or smallest to largest).**"
   ]
  },
  {
   "cell_type": "code",
   "execution_count": 76,
   "metadata": {
    "colab": {
     "base_uri": "https://localhost:8080/",
     "height": 507
    },
    "id": "EVSDUfckhcLZ",
    "outputId": "733e3984-6b32-475b-ac43-ed64ee178387"
   },
   "outputs": [
    {
     "data": {
      "image/png": "[encoded data removed]",
      "text/plain": [
       "<Figure size 900x500 with 1 Axes>"
      ]
     },
     "metadata": {},
     "output_type": "display_data"
    }
   ],
   "source": [
    "# Average imposed fine for each case disposition:\n",
    "average_fine_by_disposition = df_filtered.groupby('CASE DISPOSITION')['IMPOSED FINE'].mean().sort_values(ascending = False)\n",
    "\n",
    "# Creating the bar plot:\n",
    "plt.figure(figsize=(9, 5))\n",
    "sns.barplot(x=average_fine_by_disposition.index, y=average_fine_by_disposition.values, palette='RdYlGn')\n",
    "plt.xlabel('Case Disposition')\n",
    "plt.ylabel('Average Imposed Fine')\n",
    "plt.title('Average Imposed Fine for Each Case Disposition')\n",
    "plt.xticks(rotation=45, ha='right')\n",
    "plt.tight_layout()\n",
    "plt.show()"
   ]
  },
  {
   "cell_type": "markdown",
   "metadata": {
    "id": "URBt5zkgjERc"
   },
   "source": [
    "**(a) What does this plot show? Offer some explanation – what might help to explain the reason\n",
    "why it looks this way? Speculate a bit about these differences from group to group.**"
   ]
  },
  {
   "cell_type": "markdown",
   "metadata": {
    "id": "d7RBklOmUrVQ"
   },
   "source": [
    "*This bar chart displays the average imposed fine for different case dispositions. The most striking observation is that Default cases have the highest fines, exceeding $5000 on average. This suggests that when a defendant fails to appear or respond, courts impose severe penalties, possibly as a deterrent to non-compliance.*\n",
    "\n",
    "*Liable cases show significantly lower average fines, around $1000, indicating that while penalties exist for those found responsible, they are not as extreme as Default cases. On the other hand, Not Liable, Non-Suit, and Continuance cases have much smaller or near-zero fines, which makes sense—if a case is dismissed or the defendant is not found responsible, they are not heavily penalized.*\n",
    "\n",
    "*The stark difference in fines across these categories likely reflects the severity of legal consequences for non-compliance versus a fair trial outcome. Default judgments often carry automatic maximum penalties, while cases that go through litigation result in more moderate or no fines depending on the verdict. Courts may use high Default fines to enforce responsibility and discourage missing legal proceedings.*\n",
    "\n",
    "**Speculation:**\n",
    "\n",
    "*Default cases have the highest fines, likely due to automatic judgments imposed when defendants fail to appear or respond, serving as a strong deterrent.*\n",
    "\n",
    "*Liable cases show significantly lower fines, suggesting that penalties vary based on legal arguments, defenses, or negotiated settlements.*\n",
    "\n",
    "*Not Liable, Non-Suit, and Continuance cases have little to no fines, as these often involve dismissals, lack of evidence, or procedural delays rather than a guilty ruling.*\n",
    "\n",
    "*These differences likely reflect the court’s emphasis on compliance and participation, where those who engage in the legal process receive more nuanced penalties, while non-compliance leads to harsher consequences.*"
   ]
  },
  {
   "cell_type": "markdown",
   "metadata": {
    "id": "zFNmQ6vXVTPB"
   },
   "source": [
    "**13. Now, make a histogram that depicts the distribution of Admin Costs along the x-axis. For\n",
    "your fill variable, use Case Disposition. Set either the bins or binwidth argument on this\n",
    "histogram so that you do not see any gaps between the bins when viewing the plot.**"
   ]
  },
  {
   "cell_type": "code",
   "execution_count": 80,
   "metadata": {
    "colab": {
     "base_uri": "https://localhost:8080/",
     "height": 487
    },
    "id": "9uVd7ORFrHwr",
    "outputId": "9967c38a-af18-40b2-dcda-6dfe03897347"
   },
   "outputs": [
    {
     "data": {
      "image/png": "[encoded data removed]",
      "text/plain": [
       "<Figure size 900x500 with 1 Axes>"
      ]
     },
     "metadata": {},
     "output_type": "display_data"
    }
   ],
   "source": [
    "# Histogram for Admin Costs by Case Disposition:\n",
    "plt.figure(figsize=(9, 5))\n",
    "sns.histplot(data=df_filtered, x='ADMIN COSTS', hue='CASE DISPOSITION', multiple=\"stack\", bins=4)\n",
    "plt.xlabel('Admin Costs')\n",
    "plt.ylabel('Frequency')\n",
    "plt.title('Distribution of Admin Costs by Case Disposition')\n",
    "plt.show()"
   ]
  },
  {
   "cell_type": "markdown",
   "metadata": {
    "id": "6KgKGATPXSHL"
   },
   "source": [
    "**(a) What does your plot show? Describe in a few sentences, pointing out anything particularly noteworthy or interesting. What might explain the way it looks?**\n"
   ]
  },
  {
   "cell_type": "markdown",
   "metadata": {
    "id": "h2a_uF8AXVLI"
   },
   "source": [
    "*The largest concentration of cases appears at the lowest admin cost range (near 0), with Non-Suit cases dominating this range, followed by Not Liable and Continuance cases. This suggests that cases that are dismissed or ruled in favor of the defendant tend to incur lower administrative costs. In contrast, cases with higher admin costs (40 and 100) are largely associated with Default and Liable cases, indicating that cases with legal accountability or procedural penalties tend to have higher costs.*\n",
    "\n",
    "*The cluster at 100 admin cost is particularly striking, mostly composed of Liable and Default cases, implying that certain cases incur a standard maximum administrative cost. This pattern might be due to fixed court fees for specific case outcomes or mandatory penalties associated with certain rulings.*\n",
    "\n",
    "*Overall, the histogram suggests that administrative costs are strongly linked to case dispositions, with dismissed or non-liable cases being less costly, while cases where responsibility is assigned (Default or Liable) tend to have higher costs.*"
   ]
  },
  {
   "cell_type": "markdown",
   "metadata": {
    "id": "ImKY1Hy1YL8V"
   },
   "source": [
    "**14. Perform another filtering step. This time, filter your dataset so that only rows with the 5 most\n",
    "common types of Violation Description remain. Right now, you have just a few unique values\n",
    "for Violation Description. What are they?**"
   ]
  },
  {
   "cell_type": "code",
   "execution_count": 84,
   "metadata": {
    "colab": {
     "base_uri": "https://localhost:8080/"
    },
    "id": "XA3Ra2etaZXS",
    "outputId": "c12701f9-776a-422f-bb59-0c140aa1ebb2"
   },
   "outputs": [
    {
     "name": "stdout",
     "output_type": "stream",
     "text": [
      "VIOLATION CODE\n",
      "190019    2129\n",
      "070024    1554\n",
      "061014    1368\n",
      "196029    1051\n",
      "104015     959\n",
      "          ... \n",
      "151017       1\n",
      "049013       1\n",
      "002040       1\n",
      "210010       1\n",
      "302081       1\n",
      "Name: count, Length: 543, dtype: int64 \n",
      "\n",
      "TOP 5 VIOLATION CODES:\n",
      "\n",
      " Index(['190019', '070024', '061014', '196029', '104015'], dtype='object', name='VIOLATION CODE') \n",
      "\n",
      "TOP 5 VIOLATION DESCRIPTION:\n",
      "\n",
      "['Arrange for inspection of premises. (13-12-100)'\n",
      " 'Repair exterior wall. (13-196-010, 13-196-530 B)'\n",
      " 'Replace broken, missing or defective window panes. (13-196-550 A)'\n",
      " 'Repair or replace defective or missing members of porch system. (13-196-570)'\n",
      " \"Post name, address, and telephone of owner, owner's agent for managing, controlling or collecting rents, and any other person managing or controlling building conspicuously where accessible or visible to public way. (13-12-030)\"]\n"
     ]
    }
   ],
   "source": [
    "# Counting the occurrences of each violation code:\n",
    "violation_code_counts = df_filtered['VIOLATION CODE'].value_counts()\n",
    "print(violation_code_counts,\"\\n\")\n",
    "\n",
    "# Five most common violation codes:\n",
    "top_5_violation_codes = violation_code_counts.nlargest(5).index\n",
    "print(f\"TOP 5 VIOLATION CODES:\\n\\n {top_5_violation_codes}\", \"\\n\")\n",
    "\n",
    "# Filtering the DataFrame to include only the top 5 violation codes\n",
    "top_5_violation_codes = df_filtered[df_filtered['VIOLATION CODE'].isin(top_5_violation_codes)]\n",
    "\n",
    "# Display the unique violation descriptions for the filtered data\n",
    "print(f\"TOP 5 VIOLATION DESCRIPTION:\\n\\n{top_5_violation_codes['VIOLATION DESCRIPTION'].unique()}\")"
   ]
  },
  {
   "cell_type": "markdown",
   "metadata": {
    "id": "5aCcqhWugnyQ"
   },
   "source": [
    "**(a) It looks like these are pretty long! Shorten these names in the dataset to something much\n",
    "more manageable – these should become short enough so that they could be used as\n",
    "labels in a visualization. Each description should just be reduced to 1-2 words.**"
   ]
  },
  {
   "cell_type": "code",
   "execution_count": 86,
   "metadata": {
    "colab": {
     "base_uri": "https://localhost:8080/"
    },
    "id": "9YPzQU7Is5AZ",
    "outputId": "7ac3a17c-01bf-4f5b-828c-a3b3a7625ab5"
   },
   "outputs": [
    {
     "name": "stdout",
     "output_type": "stream",
     "text": [
      "['Inspection' 'Wall Repair' 'Window Repair' 'Porch Repair'\n",
      " 'Post Owner Info']\n"
     ]
    }
   ],
   "source": [
    "# Mapping Violation Descriptions:\n",
    "description_mapping = {\n",
    "    'Arrange for inspection of premises. (13-12-100)': 'Inspection',\n",
    "    'Repair exterior wall. (13-196-010, 13-196-530 B)': 'Wall Repair',\n",
    "    'Replace broken, missing or defective window panes. (13-196-550 A)': 'Window Repair',\n",
    "    'Repair or replace defective or missing members of porch system. (13-196-570)': 'Porch Repair',\n",
    "    \"Post name, address, and telephone of owner, owner's agent for managing, controlling or collecting rents, and any other person managing or controlling building conspicuously where accessible or visible to public way. (13-12-030)\": 'Post Owner Info'\n",
    "}\n",
    "\n",
    "top_5_violation_codes['VIOLATION DESCRIPTION'] = top_5_violation_codes['VIOLATION DESCRIPTION'].map(description_mapping)\n",
    "print(top_5_violation_codes['VIOLATION DESCRIPTION'].unique())"
   ]
  },
  {
   "cell_type": "markdown",
   "metadata": {
    "id": "0paUsydhiTud"
   },
   "source": [
    "**15. Now, create a barplot that depicts the mean Imposed Fine value for each of these five violation\n",
    "descriptions. Fill the bars with any color of your choice. Arrange the bars either in increasing or\n",
    "decreasing order. What does this plot show? Speculate a bit about why some types of violations\n",
    "may receive larger fines, compared with others.**"
   ]
  },
  {
   "cell_type": "code",
   "execution_count": 88,
   "metadata": {
    "colab": {
     "base_uri": "https://localhost:8080/",
     "height": 506
    },
    "id": "2wWi6yZLs46I",
    "outputId": "83b0adc3-9505-4643-b73b-343b3abc7a9b"
   },
   "outputs": [
    {
     "data": {
      "image/png": "[encoded data removed]",
      "text/plain": [
       "<Figure size 900x500 with 1 Axes>"
      ]
     },
     "metadata": {},
     "output_type": "display_data"
    }
   ],
   "source": [
    "# Barplot\n",
    "plt.figure(figsize=(9,5))\n",
    "sns.barplot(x='VIOLATION DESCRIPTION', y='IMPOSED FINE', data=top_5_violation_codes, ci=None, palette='colorblind', order=top_5_violation_codes.groupby('VIOLATION DESCRIPTION')['IMPOSED FINE'].mean().sort_values(ascending=False).index)\n",
    "plt.xlabel('Violation Description')\n",
    "plt.ylabel('Mean Imposed Fine')\n",
    "plt.title('Mean Imposed Fine for Top 5 Violation Descriptions')\n",
    "plt.xticks(rotation=45, ha='right')\n",
    "plt.tight_layout()\n",
    "plt.show()"
   ]
  },
  {
   "cell_type": "markdown",
   "metadata": {
    "id": "UPls68BWjBs7"
   },
   "source": [
    "*This bar chart displays the mean imposed fines for the top five violation descriptions. Window Repair violations have the highest average fine, followed closely by Wall Repair, Porch Repair, Post Owner Info, and Inspection violations. The fines for these violations range between 1000 usd and 1600 usd, indicating that property-related issues incur significant penalties.*\n",
    "\n",
    "**Speculation on Fine Differences:**\n",
    "\n",
    "*Higher fines for structural violations (Window, Wall, and Porch Repairs) are due to their direct impact on safety and property integrity. Damaged windows, walls, and porches pose serious risks to residents and the public, justifying stricter penalties.*\n",
    "\n",
    "*Post Owner Info violations also receive a high fine, likely because failing to provide ownership details can hinder communication in emergencies or legal matters, leading to regulatory enforcement.*\n",
    "\n",
    "*Inspection-related fines are slightly lower but still substantial, suggesting that failure to arrange proper inspections is considered an administrative lapse rather than an immediate safety hazard.*\n",
    "\n",
    "*Overall, violations tied to public safety, building integrity, and regulatory compliance tend to receive larger fines. The severity of these fines likely reflects the potential risks posed by neglecting these issues and the city's efforts to enforce timely repairs and accountability.*"
   ]
  },
  {
   "cell_type": "markdown",
   "metadata": {
    "id": "AND1pJFLkLSO"
   },
   "source": [
    "**16. Write this statement here: My assignment submission includes the following:**"
   ]
  },
  {
   "cell_type": "markdown",
   "metadata": {
    "id": "YoWT6K9jkLFJ"
   },
   "source": [
    "*(a) A file containing code*\n",
    "\n",
    "*(b) A write-up in a PDF that clearly includes all of my code, results, and interpretation statements, together*\n"
   ]
  },
  {
   "cell_type": "code",
   "execution_count": null,
   "metadata": {
    "id": "B4a-Lrpxk8TE"
   },
   "outputs": [],
   "source": []
  }
 ],
 "metadata": {
  "colab": {
   "provenance": []
  },
  "kernelspec": {
   "display_name": "Python 3 (ipykernel)",
   "language": "python",
   "name": "python3"
  },
  "language_info": {
   "codemirror_mode": {
    "name": "ipython",
    "version": 3
   },
   "file_extension": ".py",
   "mimetype": "text/x-python",
   "name": "python",
   "nbconvert_exporter": "python",
   "pygments_lexer": "ipython3",
   "version": "3.12.4"
  }
 },
 "nbformat": 4,
 "nbformat_minor": 4
}
